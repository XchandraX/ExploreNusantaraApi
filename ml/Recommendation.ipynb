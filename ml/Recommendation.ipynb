{
  "cells": [
    {
      "cell_type": "markdown",
      "metadata": {},
      "source": [
        "# Import Library"
      ]
    },
    {
      "cell_type": "code",
      "execution_count": 1,
      "metadata": {
        "colab": {
          "base_uri": "https://localhost:8080/"
        },
        "id": "RLIc2V2FWBJp",
        "outputId": "a776a1eb-15fd-4c1d-a63c-124d122268c4"
      },
      "outputs": [
        {
          "name": "stdout",
          "output_type": "stream",
          "text": [
            "Requirement already satisfied: Sastrawi in c:\\programdata\\anaconda3\\envs\\main-ds\\lib\\site-packages (1.0.1)\n"
          ]
        }
      ],
      "source": [
        "!pip install Sastrawi\n",
        "\n",
        "import pandas as pd  # Pandas untuk manipulasi dan analisis data\n",
        "pd.options.mode.chained_assignment = None  # Menonaktifkan peringatan chaining\n",
        "from Sastrawi.Stemmer.StemmerFactory import StemmerFactory  # Stemming (penghilangan imbuhan kata) dalam bahasa Indonesia\n",
        "from Sastrawi.StopWordRemover.StopWordRemoverFactory import StopWordRemoverFactory  # Menghapus kata-kata berhenti dalam bahasa Indonesia\n",
        "import scipy.sparse as sp "
      ]
    },
    {
      "cell_type": "code",
      "execution_count": 2,
      "metadata": {
        "colab": {
          "base_uri": "https://localhost:8080/",
          "height": 487
        },
        "id": "xaQXv9vAHtNJ",
        "outputId": "4ee36c03-cbcf-4a85-e5d9-2b5593a25275"
      },
      "outputs": [
        {
          "data": {
            "text/html": [
              "<div>\n",
              "<style scoped>\n",
              "    .dataframe tbody tr th:only-of-type {\n",
              "        vertical-align: middle;\n",
              "    }\n",
              "\n",
              "    .dataframe tbody tr th {\n",
              "        vertical-align: top;\n",
              "    }\n",
              "\n",
              "    .dataframe thead th {\n",
              "        text-align: right;\n",
              "    }\n",
              "</style>\n",
              "<table border=\"1\" class=\"dataframe\">\n",
              "  <thead>\n",
              "    <tr style=\"text-align: right;\">\n",
              "      <th></th>\n",
              "      <th>place_name</th>\n",
              "      <th>place_description</th>\n",
              "      <th>category</th>\n",
              "      <th>city</th>\n",
              "      <th>price</th>\n",
              "      <th>rating</th>\n",
              "      <th>description_location</th>\n",
              "      <th>place_img</th>\n",
              "      <th>gallery_photo_img1</th>\n",
              "      <th>gallery_photo_img2</th>\n",
              "      <th>gallery_photo_img3</th>\n",
              "      <th>place_map</th>\n",
              "    </tr>\n",
              "  </thead>\n",
              "  <tbody>\n",
              "    <tr>\n",
              "      <th>0</th>\n",
              "      <td>Taman Nasional Gunung Leuser</td>\n",
              "      <td>Taman Nasional Gunung Leuser adalah salah satu...</td>\n",
              "      <td>Budaya,Taman Nasional</td>\n",
              "      <td>Aceh</td>\n",
              "      <td>Rp25,000</td>\n",
              "      <td>4.5</td>\n",
              "      <td>Barisan mountain range, Aceh 24653</td>\n",
              "      <td>https://storage.googleapis.com/travelee-capsto...</td>\n",
              "      <td>https://storage.googleapis.com/travelee-capsto...</td>\n",
              "      <td>https://storage.googleapis.com/travelee-capsto...</td>\n",
              "      <td>https://storage.googleapis.com/travelee-capsto...</td>\n",
              "      <td>https://www.google.com/maps/search/Taman+Nasio...</td>\n",
              "    </tr>\n",
              "    <tr>\n",
              "      <th>1</th>\n",
              "      <td>Desa Wisata Munduk</td>\n",
              "      <td>Desa Wisata Munduk adalah sebuah desa di pegun...</td>\n",
              "      <td>Desa Wisata</td>\n",
              "      <td>Bali</td>\n",
              "      <td>Rp10,000</td>\n",
              "      <td>4.5</td>\n",
              "      <td>Munduk, Banjar, Kabupaten Buleleng, Bali</td>\n",
              "      <td>https://storage.googleapis.com/travelee-capsto...</td>\n",
              "      <td>https://storage.googleapis.com/travelee-capsto...</td>\n",
              "      <td>https://storage.googleapis.com/travelee-capsto...</td>\n",
              "      <td>https://storage.googleapis.com/travelee-capsto...</td>\n",
              "      <td>https://goo.gl/maps/LyeJ2mAeFGysTE9v9</td>\n",
              "    </tr>\n",
              "    <tr>\n",
              "      <th>2</th>\n",
              "      <td>Desa Wisata Penglipuran</td>\n",
              "      <td>Desa Wisata Penglipuran adalah sebuah desa wis...</td>\n",
              "      <td>Budaya,Desa Wisata</td>\n",
              "      <td>Bali</td>\n",
              "      <td>Rp25,000</td>\n",
              "      <td>4.8</td>\n",
              "      <td>Jl. Penglipuran, Kubu, Kec. Bangli, Kabupaten ...</td>\n",
              "      <td>https://storage.googleapis.com/travelee-capsto...</td>\n",
              "      <td>https://storage.googleapis.com/travelee-capsto...</td>\n",
              "      <td>https://storage.googleapis.com/travelee-capsto...</td>\n",
              "      <td>https://storage.googleapis.com/travelee-capsto...</td>\n",
              "      <td>https://www.google.com/maps/search/Desa+Wisata...</td>\n",
              "    </tr>\n",
              "    <tr>\n",
              "      <th>3</th>\n",
              "      <td>Taman Nasional Bali Barat</td>\n",
              "      <td>Taman Nasional Bali Barat adalah kawasan konse...</td>\n",
              "      <td>Taman Nasional,Cagar Alam</td>\n",
              "      <td>Bali</td>\n",
              "      <td>Rp15,000</td>\n",
              "      <td>4.5</td>\n",
              "      <td>Sumber Klampok, Bali</td>\n",
              "      <td>https://storage.googleapis.com/travelee-capsto...</td>\n",
              "      <td>https://storage.googleapis.com/travelee-capsto...</td>\n",
              "      <td>https://storage.googleapis.com/travelee-capsto...</td>\n",
              "      <td>https://storage.googleapis.com/travelee-capsto...</td>\n",
              "      <td>https://www.google.com/maps/search/Taman+Nasio...</td>\n",
              "    </tr>\n",
              "    <tr>\n",
              "      <th>4</th>\n",
              "      <td>Bukit Jamur</td>\n",
              "      <td>Bukit Jamur Ciwidey adalah satu dari sekian ba...</td>\n",
              "      <td>Cagar Alam</td>\n",
              "      <td>Bandung</td>\n",
              "      <td>Rp12,000</td>\n",
              "      <td>4.2</td>\n",
              "      <td>Sugihmukti, Kec. Pasirjambu, Kabupaten Bandung...</td>\n",
              "      <td>https://storage.googleapis.com/travelee-capsto...</td>\n",
              "      <td>https://storage.googleapis.com/travelee-capsto...</td>\n",
              "      <td>https://storage.googleapis.com/travelee-capsto...</td>\n",
              "      <td>https://storage.googleapis.com/travelee-capsto...</td>\n",
              "      <td>https://www.google.com/maps/search/Bukit+Jamur</td>\n",
              "    </tr>\n",
              "  </tbody>\n",
              "</table>\n",
              "</div>"
            ],
            "text/plain": [
              "                     place_name  \\\n",
              "0  Taman Nasional Gunung Leuser   \n",
              "1            Desa Wisata Munduk   \n",
              "2       Desa Wisata Penglipuran   \n",
              "3     Taman Nasional Bali Barat   \n",
              "4                   Bukit Jamur   \n",
              "\n",
              "                                   place_description  \\\n",
              "0  Taman Nasional Gunung Leuser adalah salah satu...   \n",
              "1  Desa Wisata Munduk adalah sebuah desa di pegun...   \n",
              "2  Desa Wisata Penglipuran adalah sebuah desa wis...   \n",
              "3  Taman Nasional Bali Barat adalah kawasan konse...   \n",
              "4  Bukit Jamur Ciwidey adalah satu dari sekian ba...   \n",
              "\n",
              "                    category     city     price  rating  \\\n",
              "0      Budaya,Taman Nasional     Aceh  Rp25,000     4.5   \n",
              "1                Desa Wisata     Bali  Rp10,000     4.5   \n",
              "2         Budaya,Desa Wisata     Bali  Rp25,000     4.8   \n",
              "3  Taman Nasional,Cagar Alam     Bali  Rp15,000     4.5   \n",
              "4                 Cagar Alam  Bandung  Rp12,000     4.2   \n",
              "\n",
              "                                description_location  \\\n",
              "0                 Barisan mountain range, Aceh 24653   \n",
              "1           Munduk, Banjar, Kabupaten Buleleng, Bali   \n",
              "2  Jl. Penglipuran, Kubu, Kec. Bangli, Kabupaten ...   \n",
              "3                               Sumber Klampok, Bali   \n",
              "4  Sugihmukti, Kec. Pasirjambu, Kabupaten Bandung...   \n",
              "\n",
              "                                           place_img  \\\n",
              "0  https://storage.googleapis.com/travelee-capsto...   \n",
              "1  https://storage.googleapis.com/travelee-capsto...   \n",
              "2  https://storage.googleapis.com/travelee-capsto...   \n",
              "3  https://storage.googleapis.com/travelee-capsto...   \n",
              "4  https://storage.googleapis.com/travelee-capsto...   \n",
              "\n",
              "                                  gallery_photo_img1  \\\n",
              "0  https://storage.googleapis.com/travelee-capsto...   \n",
              "1  https://storage.googleapis.com/travelee-capsto...   \n",
              "2  https://storage.googleapis.com/travelee-capsto...   \n",
              "3  https://storage.googleapis.com/travelee-capsto...   \n",
              "4  https://storage.googleapis.com/travelee-capsto...   \n",
              "\n",
              "                                  gallery_photo_img2  \\\n",
              "0  https://storage.googleapis.com/travelee-capsto...   \n",
              "1  https://storage.googleapis.com/travelee-capsto...   \n",
              "2  https://storage.googleapis.com/travelee-capsto...   \n",
              "3  https://storage.googleapis.com/travelee-capsto...   \n",
              "4  https://storage.googleapis.com/travelee-capsto...   \n",
              "\n",
              "                                  gallery_photo_img3  \\\n",
              "0  https://storage.googleapis.com/travelee-capsto...   \n",
              "1  https://storage.googleapis.com/travelee-capsto...   \n",
              "2  https://storage.googleapis.com/travelee-capsto...   \n",
              "3  https://storage.googleapis.com/travelee-capsto...   \n",
              "4  https://storage.googleapis.com/travelee-capsto...   \n",
              "\n",
              "                                           place_map  \n",
              "0  https://www.google.com/maps/search/Taman+Nasio...  \n",
              "1              https://goo.gl/maps/LyeJ2mAeFGysTE9v9  \n",
              "2  https://www.google.com/maps/search/Desa+Wisata...  \n",
              "3  https://www.google.com/maps/search/Taman+Nasio...  \n",
              "4     https://www.google.com/maps/search/Bukit+Jamur  "
            ]
          },
          "execution_count": 2,
          "metadata": {},
          "output_type": "execute_result"
        }
      ],
      "source": [
        "dataset= pd.read_csv(\"https://drive.usercontent.google.com/download?id=1nhEVUP5RotxRkXKcdh7mBMYbZuEPf7VY&export=download&authuser=3&confirm=t&uuid=4a95c9f5-6f20-4be1-bea1-07a6f9f7e8a7&at=AEz70l4lEbei1hLUIq3K5bV2nu4W:1742999252488\")\n",
        "dataset.drop(['place_id'], axis=1, inplace=True)\n",
        "dataset.head()"
      ]
    },
    {
      "cell_type": "code",
      "execution_count": 3,
      "metadata": {
        "colab": {
          "base_uri": "https://localhost:8080/"
        },
        "id": "7nIy-nhm21e7",
        "outputId": "e9a6cdc7-0ed5-4995-f88d-492522e42bb1"
      },
      "outputs": [
        {
          "name": "stdout",
          "output_type": "stream",
          "text": [
            "<class 'pandas.core.frame.DataFrame'>\n",
            "RangeIndex: 205 entries, 0 to 204\n",
            "Data columns (total 12 columns):\n",
            " #   Column                Non-Null Count  Dtype  \n",
            "---  ------                --------------  -----  \n",
            " 0   place_name            205 non-null    object \n",
            " 1   place_description     205 non-null    object \n",
            " 2   category              205 non-null    object \n",
            " 3   city                  205 non-null    object \n",
            " 4   price                 205 non-null    object \n",
            " 5   rating                205 non-null    float64\n",
            " 6   description_location  205 non-null    object \n",
            " 7   place_img             205 non-null    object \n",
            " 8   gallery_photo_img1    205 non-null    object \n",
            " 9   gallery_photo_img2    202 non-null    object \n",
            " 10  gallery_photo_img3    118 non-null    object \n",
            " 11  place_map             205 non-null    object \n",
            "dtypes: float64(1), object(11)\n",
            "memory usage: 19.3+ KB\n"
          ]
        }
      ],
      "source": [
        "dataset.info()"
      ]
    },
    {
      "cell_type": "code",
      "execution_count": 4,
      "metadata": {
        "id": "bGbKeA2ycEVy"
      },
      "outputs": [],
      "source": [
        "df = dataset[['place_name','place_description','category','city','rating','description_location']]"
      ]
    },
    {
      "cell_type": "markdown",
      "metadata": {},
      "source": [
        "# Cleaning Data + Preprocessing"
      ]
    },
    {
      "cell_type": "code",
      "execution_count": 5,
      "metadata": {
        "colab": {
          "base_uri": "https://localhost:8080/"
        },
        "id": "1fdq1kjDVeBu",
        "outputId": "59041889-cbfb-411a-8bf4-4f1c0248f387"
      },
      "outputs": [
        {
          "name": "stdout",
          "output_type": "stream",
          "text": [
            "TF-IDF matrix shape: (205, 1000)\n",
            "Final feature matrix shape: (205, 1003)\n"
          ]
        }
      ],
      "source": [
        "\n",
        "# CLEANING DATA\n",
        "text_columns = ['place_description', 'description_location']\n",
        "for col in text_columns:\n",
        "    df[col] = df[col].fillna('')\n",
        "\n",
        "categorical_columns = ['category', 'city']\n",
        "for col in categorical_columns:\n",
        "    df[col] = df[col].fillna(df[col].mode()[0])\n",
        "\n",
        "numeric_columns = ['rating']\n",
        "for col in numeric_columns:\n",
        "    df[col] = df[col].fillna(df[col].median())\n",
        "\n",
        "df['combined_text'] = df['place_description'] + \" \" + df['description_location']\n",
        "\n",
        "indonesian_stopwords = [\n",
        "    'yang', 'dan', 'di', 'ke', 'dari', 'ini', 'itu', 'untuk', 'pada', 'dengan',\n",
        "    'adalah', 'atau', 'jika', 'saya', 'kita', 'akan', 'tidak', 'tersebut'\n",
        "]\n",
        "\n",
        "from sklearn.feature_extraction.text import TfidfVectorizer\n",
        "vectorizer = TfidfVectorizer(stop_words=indonesian_stopwords, max_features=1000)\n",
        "tfidf_matrix = vectorizer.fit_transform(df['combined_text'])\n",
        "print(\"TF-IDF matrix shape:\", tfidf_matrix.shape)\n",
        "\n",
        "from sklearn.preprocessing import LabelEncoder\n",
        "le_category = LabelEncoder()\n",
        "df['category_encoded'] = le_category.fit_transform(df['category'])\n",
        "\n",
        "le_city = LabelEncoder()\n",
        "df['city_encoded'] = le_city.fit_transform(df['city'])\n",
        "\n",
        "from sklearn.preprocessing import StandardScaler\n",
        "scaler = StandardScaler()\n",
        "df[['rating_scaled']] = scaler.fit_transform(df[[ 'rating']])\n",
        "\n",
        "other_features = df[['category_encoded', 'city_encoded', 'rating_scaled']]\n",
        "other_features_sparse = sp.csr_matrix(other_features.values)\n",
        "final_feature_matrix = sp.hstack([tfidf_matrix, other_features_sparse])\n",
        "print(\"Final feature matrix shape:\", final_feature_matrix.shape)\n"
      ]
    },
    {
      "cell_type": "markdown",
      "metadata": {},
      "source": [
        "# Model"
      ]
    },
    {
      "cell_type": "code",
      "execution_count": 6,
      "metadata": {
        "colab": {
          "base_uri": "https://localhost:8080/"
        },
        "id": "B9kVmegVa71H",
        "outputId": "2310d3b5-1eb8-471b-b1b6-26420c66bb8e"
      },
      "outputs": [
        {
          "name": "stdout",
          "output_type": "stream",
          "text": [
            "Similarity matrix shape: (205, 205)\n",
            "Recommended indices: [18, 34, 22, 10, 8]\n",
            "                place_name    category     city  rating  \\\n",
            "18       Happyfarm Ciwidey  Cagar Alam  Bandung     4.3   \n",
            "34   Taman Bunga Cihideung  Cagar Alam  Bandung     4.2   \n",
            "22  Kebun Binatang Bandung  Cagar Alam  Bandung     4.1   \n",
            "10   Curug Luhur Waterfall  Cagar Alam  Bandung     4.2   \n",
            "8             Curug Cimahi  Cagar Alam  Bandung     4.1   \n",
            "\n",
            "                                            place_img  \\\n",
            "18  https://storage.googleapis.com/travelee-capsto...   \n",
            "34  https://storage.googleapis.com/travelee-capsto...   \n",
            "22  https://storage.googleapis.com/travelee-capsto...   \n",
            "10  https://storage.googleapis.com/travelee-capsto...   \n",
            "8   https://storage.googleapis.com/travelee-capsto...   \n",
            "\n",
            "                                   gallery_photo_img1  \\\n",
            "18  https://storage.googleapis.com/travelee-capsto...   \n",
            "34  https://storage.googleapis.com/travelee-capsto...   \n",
            "22  https://storage.googleapis.com/travelee-capsto...   \n",
            "10  https://storage.googleapis.com/travelee-capsto...   \n",
            "8   https://storage.googleapis.com/travelee-capsto...   \n",
            "\n",
            "                                   gallery_photo_img2  \\\n",
            "18  https://storage.googleapis.com/travelee-capsto...   \n",
            "34  https://storage.googleapis.com/travelee-capsto...   \n",
            "22  https://storage.googleapis.com/travelee-capsto...   \n",
            "10  https://storage.googleapis.com/travelee-capsto...   \n",
            "8   https://storage.googleapis.com/travelee-capsto...   \n",
            "\n",
            "                                   gallery_photo_img3  \n",
            "18  https://storage.googleapis.com/travelee-capsto...  \n",
            "34  https://storage.googleapis.com/travelee-capsto...  \n",
            "22                                                NaN  \n",
            "10  https://storage.googleapis.com/travelee-capsto...  \n",
            "8   https://storage.googleapis.com/travelee-capsto...  \n"
          ]
        }
      ],
      "source": [
        "from sklearn.metrics.pairwise import cosine_similarity\n",
        "\n",
        "# Hitung cosine similarity antara item\n",
        "similarity_matrix = cosine_similarity(final_feature_matrix, dense_output=False)\n",
        "print(\"Similarity matrix shape:\", similarity_matrix.shape)\n",
        "\n",
        "def get_recommendations(place_index, similarity_matrix, df, top_n=5):\n",
        "\n",
        "    similarity_scores = list(enumerate(similarity_matrix[place_index].toarray().flatten()))\n",
        "\n",
        "    similarity_scores = sorted(similarity_scores, key=lambda x: x[1], reverse=True)[1:top_n+1]\n",
        "\n",
        "    recommended_indices = [i[0] for i in similarity_scores]\n",
        "    return recommended_indices\n",
        "\n",
        "recommended_indices = get_recommendations(4, similarity_matrix, dataset, top_n=5)\n",
        "recommended_places = dataset.iloc[recommended_indices]\n",
        "print(\"Recommended indices:\", recommended_indices)\n",
        "print(recommended_places[[ 'place_name', 'category', 'city', 'rating','place_img', 'gallery_photo_img1', 'gallery_photo_img2', 'gallery_photo_img3']])"
      ]
    },
    {
      "cell_type": "markdown",
      "metadata": {},
      "source": [
        "# Recommend"
      ]
    },
    {
      "cell_type": "code",
      "execution_count": 7,
      "metadata": {},
      "outputs": [
        {
          "name": "stdout",
          "output_type": "stream",
          "text": [
            "Recommended indices: [18, 34, 22, 10, 8]\n",
            "                place_name    category     city  rating  \\\n",
            "18       Happyfarm Ciwidey  Cagar Alam  Bandung     4.3   \n",
            "34   Taman Bunga Cihideung  Cagar Alam  Bandung     4.2   \n",
            "22  Kebun Binatang Bandung  Cagar Alam  Bandung     4.1   \n",
            "10   Curug Luhur Waterfall  Cagar Alam  Bandung     4.2   \n",
            "8             Curug Cimahi  Cagar Alam  Bandung     4.1   \n",
            "\n",
            "                                            place_img  \\\n",
            "18  https://storage.googleapis.com/travelee-capsto...   \n",
            "34  https://storage.googleapis.com/travelee-capsto...   \n",
            "22  https://storage.googleapis.com/travelee-capsto...   \n",
            "10  https://storage.googleapis.com/travelee-capsto...   \n",
            "8   https://storage.googleapis.com/travelee-capsto...   \n",
            "\n",
            "                                   gallery_photo_img1  \\\n",
            "18  https://storage.googleapis.com/travelee-capsto...   \n",
            "34  https://storage.googleapis.com/travelee-capsto...   \n",
            "22  https://storage.googleapis.com/travelee-capsto...   \n",
            "10  https://storage.googleapis.com/travelee-capsto...   \n",
            "8   https://storage.googleapis.com/travelee-capsto...   \n",
            "\n",
            "                                   gallery_photo_img2  \\\n",
            "18  https://storage.googleapis.com/travelee-capsto...   \n",
            "34  https://storage.googleapis.com/travelee-capsto...   \n",
            "22  https://storage.googleapis.com/travelee-capsto...   \n",
            "10  https://storage.googleapis.com/travelee-capsto...   \n",
            "8   https://storage.googleapis.com/travelee-capsto...   \n",
            "\n",
            "                                   gallery_photo_img3  \n",
            "18  https://storage.googleapis.com/travelee-capsto...  \n",
            "34  https://storage.googleapis.com/travelee-capsto...  \n",
            "22                                                NaN  \n",
            "10  https://storage.googleapis.com/travelee-capsto...  \n",
            "8   https://storage.googleapis.com/travelee-capsto...  \n"
          ]
        }
      ],
      "source": [
        "recommended_indices = get_recommendations(4, similarity_matrix, dataset, top_n=5)\n",
        "recommended_places = dataset.iloc[recommended_indices]\n",
        "print(\"Recommended indices:\", recommended_indices)\n",
        "print(recommended_places[[ 'place_name', 'category', 'city', 'rating','place_img', 'gallery_photo_img1', 'gallery_photo_img2', 'gallery_photo_img3']])"
      ]
    }
  ],
  "metadata": {
    "colab": {
      "provenance": []
    },
    "kernelspec": {
      "display_name": "main-ds",
      "language": "python",
      "name": "python3"
    },
    "language_info": {
      "codemirror_mode": {
        "name": "ipython",
        "version": 3
      },
      "file_extension": ".py",
      "mimetype": "text/x-python",
      "name": "python",
      "nbconvert_exporter": "python",
      "pygments_lexer": "ipython3",
      "version": "3.9.21"
    }
  },
  "nbformat": 4,
  "nbformat_minor": 0
}
